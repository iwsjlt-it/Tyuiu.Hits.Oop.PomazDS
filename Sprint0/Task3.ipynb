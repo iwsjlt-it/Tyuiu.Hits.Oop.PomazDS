{
 "cells": [
  {
   "cell_type": "markdown",
   "metadata": {},
   "source": [
    "<h1 style=\"color:DodgerBlue\">Индивидальный проект</h1>"
   ]
  },
  {
   "cell_type": "markdown",
   "metadata": {},
   "source": [
    "<h2 style=\"color:DodgerBlue\">Название проекта:</h2>\n",
    "\n",
    "----\n",
    "\n",
    "### Вариант задания № 14\n"
   ]
  },
  {
   "cell_type": "markdown",
   "metadata": {},
   "source": [
    "<h2 style=\"color:DodgerBlue\">Описание проекта:</h2>\n",
    "\n",
    "----\n",
    "\n",
    "<strong>Описание задачи:</strong> <br>\n",
    "Создать базовый класс Supplier в C#, который будет представлять информацию о \n",
    "поставщиках товаров или услуг. На основе этого класса разработать 2-3 \n",
    "производных класса, демонстрирующих принципы наследования и полиморфизма. \n",
    "В каждом из классов должны быть реализованы новые атрибуты и методы, а также \n",
    "переопределены некоторые методы базового класса для демонстрации \n",
    "полиморфизма. <br> <br>\n",
    "<strong>Требования к базовому классу Supplier:</strong>  <br> <br>\n",
    "\n",
    "\n",
    "\n",
    "\n",
    "<strong>Атрибуты:</strong> <br>ID поставщика (SupplierId), Название компании (CompanyName), Тип продукции (ProductType). <br> <br>\n",
    "<strong>Методы:</strong> <br> <br>\n",
    "    GetCompanyInfo(): метод для получения информации о компании. <br>\n",
    "    ProvideQuote(): метод для предоставления котировки на товары или услуги. <br>\n",
    "    SubmitOrder(): метод для отправки заказа поставщику. <br> <br>\n",
    "<strong>Требования к производным классам: </strong>\n",
    "1. Производитель (Manufacturer): Должен содержать дополнительные атрибуты, \n",
    "такие как Год основания (FoundedYear). Метод ProvideQuote() должен быть \n",
    "переопределен для включения информации о годе основания компании в \n",
    "котировку.\n",
    "2. Ритейлер (Retailer): Должен содержать дополнительные атрибуты, такие как \n",
    "Расположение магазина (StoreLocation). Метод SubmitOrder() должен быть \n",
    "переопределен для добавления информации о расположении магазина при \n",
    "отправке заказа.\n",
    "3. Импортер (Importer) (если требуется третий класс): Должен содержать \n",
    "дополнительные атрибуты, такие как Страна происхождения товара \n",
    "(OriginCountry). Метод GetCompanyInfo() должен быть переопределен для \n",
    "отображения страны происхождения товара вместе с остальной \n",
    "информацией о компании\n"
   ]
  },
  {
   "cell_type": "markdown",
   "metadata": {},
   "source": [
    "<h2 style=\"color:DodgerBlue\">Реализация:</h2>\n",
    "\n",
    "----"
   ]
  },
  {
   "cell_type": "code",
   "execution_count": 18,
   "metadata": {
    "dotnet_interactive": {
     "language": "csharp"
    },
    "polyglot_notebook": {
     "kernelName": "csharp"
    }
   },
   "outputs": [
    {
     "name": "stdout",
     "output_type": "stream",
     "text": [
      "ID компании: 1. Название компании: ООО \"Жмых эйрлайнс\". Тип продукции: Авиа-запчасти\n",
      "Предоставление котировки на товары или услуги...\n",
      "Отправка заказа поставщику...\n",
      "\n",
      "ID компании: 2. Название компании: ООО \"Собиратель душ\". Тип продукции: Жмых\n",
      "Основан в 1969 году. Предоставление котировки на товары или услуги...\n",
      "Отправка заказа поставщику...\n",
      "\n",
      "ID компании: 3. Название компании: ООО \"Енотик-полоскун\". Тип продукции: Корм\n",
      "Предоставление котировки на товары или услуги...\n",
      "Отправка заказа по адресу: город Нижневартовск\n",
      "\n",
      "ID компании: 4. Название компании: ООО \"Светлана\". Тип продукции: Пицца. Страна производства: Россия\n",
      "Предоставление котировки на товары или услуги...\n",
      "Отправка заказа поставщику...\n"
     ]
    }
   ],
   "source": [
    "class Supplier \n",
    "{\n",
    "    public int supplierId;\n",
    "    public string companyName;\n",
    "    public string productType;\n",
    "\n",
    "    public virtual void GetCompanyInfo(){\n",
    "         Console.WriteLine($\"ID компании: {supplierId}. Название компании: {companyName}. Тип продукции: {productType}\");\n",
    "    }\n",
    "     public virtual void ProvideQuote(){\n",
    "        Console.WriteLine(\"Предоставление котировки на товары или услуги...\");\n",
    "    }\n",
    "     public virtual void SubmitOrder(){\n",
    "        Console.WriteLine(\"Отправка заказа поставщику...\");\n",
    "    }\n",
    "}\n",
    "\n",
    "class Manufacturer : Supplier\n",
    "{\n",
    "    public int foundedYear;\n",
    "\n",
    "    public override void ProvideQuote(){\n",
    "        Console.WriteLine($\"Основан в {foundedYear} году. Предоставление котировки на товары или услуги...\");\n",
    "    }\n",
    "}\n",
    "\n",
    "class Retailer : Supplier\n",
    "{\n",
    "    public string storeLocation;\n",
    "\n",
    "    public override void SubmitOrder(){\n",
    "        Console.WriteLine($\"Отправка заказа по адресу: {storeLocation}\");\n",
    "    }\n",
    "}\n",
    "\n",
    "class Importer : Supplier\n",
    "{\n",
    "    public string originCountry;\n",
    "\n",
    "    public override void GetCompanyInfo(){\n",
    "         Console.WriteLine($\"ID компании: {supplierId}. Название компании: {companyName}. Тип продукции: {productType}. Страна производства: {originCountry}\");\n",
    "    }\n",
    "\n",
    "}\n",
    "\n",
    "\n",
    "//Supplier\n",
    "Supplier supplier = new Supplier();\n",
    "\n",
    "supplier.supplierId = 1;\n",
    "supplier.companyName = \"ООО \\\"Жмых эйрлайнс\\\"\";\n",
    "supplier.productType = \"Авиа-запчасти\";\n",
    "\n",
    "supplier.GetCompanyInfo();\n",
    "supplier.ProvideQuote();\n",
    "supplier.SubmitOrder();\n",
    "\n",
    "Console.WriteLine();\n",
    "\n",
    "//Manufacturer\n",
    "Manufacturer manufacturer = new Manufacturer();\n",
    "\n",
    "manufacturer.foundedYear = 1969;\n",
    "manufacturer.supplierId = 2;\n",
    "manufacturer.companyName = \"ООО \\\"Собиратель душ\\\"\";\n",
    "manufacturer.productType = \"Жмых\";\n",
    "\n",
    "manufacturer.GetCompanyInfo();\n",
    "manufacturer.ProvideQuote();\n",
    "manufacturer.SubmitOrder();\n",
    "\n",
    "Console.WriteLine();\n",
    "\n",
    "//Retailer\n",
    "Retailer retailer = new Retailer();\n",
    "\n",
    "retailer.storeLocation = \"город Нижневартовск\";\n",
    "retailer.supplierId = 3;\n",
    "retailer.companyName = \"ООО \\\"Енотик-полоскун\\\"\";\n",
    "retailer.productType = \"Корм\";\n",
    "\n",
    "retailer.GetCompanyInfo();\n",
    "retailer.ProvideQuote();\n",
    "retailer.SubmitOrder();\n",
    "\n",
    "Console.WriteLine();\n",
    "\n",
    "//Importer\n",
    "Importer importer = new Importer();\n",
    "\n",
    "importer.originCountry = \"Россия\";\n",
    "importer.supplierId = 4;\n",
    "importer.companyName = \"ООО \\\"Светлана\\\"\";\n",
    "importer.productType = \"Пицца\";\n",
    "\n",
    "importer.GetCompanyInfo();\n",
    "importer.ProvideQuote();\n",
    "importer.SubmitOrder();"
   ]
  }
 ],
 "metadata": {
  "kernelspec": {
   "display_name": ".NET (C#)",
   "language": "C#",
   "name": ".net-csharp"
  },
  "polyglot_notebook": {
   "kernelInfo": {
    "defaultKernelName": "csharp",
    "items": [
     {
      "aliases": [],
      "languageName": "csharp",
      "name": "csharp"
     }
    ]
   }
  }
 },
 "nbformat": 4,
 "nbformat_minor": 2
}
